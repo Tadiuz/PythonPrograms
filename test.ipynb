{
 "cells": [
  {
   "cell_type": "code",
   "execution_count": 47,
   "metadata": {},
   "outputs": [
    {
     "name": "stdout",
     "output_type": "stream",
     "text": [
      "[1, -1]\n",
      "[2, 1]\n",
      "[3, 0]\n",
      "[2, -1]\n",
      "5\n"
     ]
    }
   ],
   "source": [
    "import  re\n",
    "\n",
    "x = 3\n",
    "expression  =  'x^2-x'\n",
    "new = re.compile(r\"(\\-|\\+)?\\d*x\")\n",
    "new_2 = re.compile(r\"x\\^?(\\d*)?\")\n",
    "\n",
    "# a = [x.group()for x in new.finditer(expression)]\n",
    "\n",
    "a = [x.group().replace('x','') for x in new.finditer(expression)]\n",
    "a = [i if i and i != '-'else i + str(1) for i in a]\n",
    "a = list(map(int,  a))\n",
    "b = [int(x.group().replace('x','1').replace('1^',''))  for x in new_2.finditer(expression)]\n",
    "c = [i-1 for  i in b]\n",
    "\n",
    "\n",
    "c = [3 * i for i in c]\n",
    "new_a  = [i*j for i, j in zip(a,b)]\n",
    "new_b =  [i*j if j !=0 else i*1 for i,j in zip(new_a,  c)]\n",
    "final = sum(new_b)\n",
    "\n",
    "print(a)\n",
    "print(b)\n",
    "print(c)\n",
    "print(new_a)\n",
    "print(final)"
   ]
  },
  {
   "cell_type": "code",
   "execution_count": 51,
   "metadata": {},
   "outputs": [
    {
     "name": "stdout",
     "output_type": "stream",
     "text": [
      "re.compile('.*(?=[@ # ! = - ^ ? .])(?<![@ # ! = - ^ ? .])')\n",
      "oranges lemons oranges\n",
      "lemons\n",
      "apples bananas oranges\n",
      "^ . bananas\n"
     ]
    }
   ],
   "source": [
    "\n",
    "import re\n",
    "\n",
    "def solution(string,markers):\n",
    "    \n",
    "    \n",
    "    new_str = string.split('\\n')\n",
    "    to_find = ' '.join(markers)\n",
    "    compiled = re.compile('.*(?=['+ to_find + '])(?<![' + to_find+'])')\n",
    "    print(compiled)\n",
    "    \n",
    "    final = [compiled.findall(i)[0].strip() if compiled.findall(i)  else i for i in new_str]\n",
    "    return '\\n'.join(final)\n",
    "    \n",
    "\n",
    "\n",
    "\n",
    "print(solution('oranges lemons oranges pears\\nlemons\\napples bananas oranges apples\\n^ . bananas pears', ['@', '#', '!', '=', '-', '^', '?', '.']))"
   ]
  },
  {
   "cell_type": "code",
   "execution_count": 50,
   "metadata": {},
   "outputs": [
    {
     "data": {
      "text/plain": [
       "[]"
      ]
     },
     "execution_count": 50,
     "metadata": {},
     "output_type": "execute_result"
    }
   ],
   "source": [
    "# compiled = re.compile('.*(?=[#!])(?<![#!])')\n",
    "compiled = re.compile(\".+?(?=[#])\")\n",
    "text = '#'\n",
    "\n",
    "compiled.findall(text)\n",
    "\n",
    "\n",
    "\n"
   ]
  },
  {
   "cell_type": "code",
   "execution_count": 23,
   "metadata": {},
   "outputs": [
    {
     "name": "stdout",
     "output_type": "stream",
     "text": [
      "re.compile('.+?(?=[!\\\\-,])')\n",
      "re.compile('[!\\\\-,]')\n",
      "avocados watermelons bananas lemons pears @\n",
      "oranges cherries pears\n",
      "oranges avocados avocados bananas strawberries lemons\n",
      "apples\n"
     ]
    }
   ],
   "source": [
    "from re import split, escape\n",
    "import re\n",
    "\n",
    "def solution(string,markers):\n",
    "\n",
    "    if not markers:\n",
    "        return string\n",
    "    new_str = string.split('\\n')\n",
    "    to_find = escape(\"\".join(markers))\n",
    "    compiled = re.compile('.+?(?=[' + to_find+'])')\n",
    "    to_search = re.compile('[' + to_find+ ']')\n",
    "    print(compiled)\n",
    "    print(to_search)\n",
    "    final = []\n",
    "    for i in new_str:\n",
    "        if to_search.findall(i):\n",
    "            if compiled.findall(i):\n",
    "                final.append(compiled.findall(i)[0].strip() )\n",
    "            else:\n",
    "                final.append('')\n",
    "        else:  \n",
    "            final.append(i)\n",
    "    \n",
    "    return '\\n'.join(final)\n",
    "    \n",
    "print(solution('avocados watermelons bananas lemons pears @\\noranges cherries pears\\noranges avocados avocados bananas strawberries lemons\\napples - lemons pears', ['!', '-', ',']))"
   ]
  },
  {
   "cell_type": "code",
   "execution_count": 86,
   "metadata": {},
   "outputs": [
    {
     "data": {
      "text/plain": [
       "['apples ']"
      ]
     },
     "execution_count": 86,
     "metadata": {},
     "output_type": "execute_result"
    }
   ],
   "source": [
    "# compiled = re.compile('.*(?=[#!])(?<![#!])')\n",
    "compiled = re.compile('.+?(?=[!\\-,])')\n",
    "text = 'apples - lemons pears'\n",
    "\n",
    "compiled.findall(text)# compiled = re.compile('.*(?=[#!])(?<![#!])')\n"
   ]
  },
  {
   "cell_type": "code",
   "execution_count": 81,
   "metadata": {},
   "outputs": [
    {
     "data": {
      "text/plain": [
       "['apples ']"
      ]
     },
     "execution_count": 81,
     "metadata": {},
     "output_type": "execute_result"
    }
   ],
   "source": [
    "compiled = re.compile('.+?(?=[!\\-\\,])')\n",
    "text = 'apples - lemons pears'\n",
    "\n",
    "compiled.findall(text)# compiled = re.compile('.*(?=[#!])(?<![#!])')"
   ]
  },
  {
   "cell_type": "code",
   "execution_count": 19,
   "metadata": {},
   "outputs": [
    {
     "name": "stdout",
     "output_type": "stream",
     "text": [
      "['avocados watermelons bananas lemons pears @', 'oranges cherries pears', 'oranges avocados avocados bananas strawberries lemons', 'apples']\n"
     ]
    }
   ],
   "source": [
    "\n",
    "def solution2(string,markers):\n",
    "\n",
    "    if not markers:\n",
    "        return string\n",
    "    new_str = string.split('\\n')\n",
    "\n",
    "    new = []\n",
    "    for i in new_str:\n",
    "\n",
    "        string = str(i)\n",
    "\n",
    "        for j in markers:            \n",
    "            if j in string:\n",
    "                string = string[:string.find(j)]\n",
    "        new.append(string.strip())\n",
    "\n",
    "    \n",
    "    return new\n",
    "\n",
    "\n",
    "\n",
    "\n",
    "\n",
    "\n",
    "print(solution2('avocados watermelons bananas lemons pears @\\noranges cherries pears\\noranges avocados avocados bananas strawberries lemons\\napples - lemons pears', ['!', '-', ',']))\n",
    "    "
   ]
  },
  {
   "cell_type": "code",
   "execution_count": 12,
   "metadata": {},
   "outputs": [
    {
     "data": {
      "text/plain": [
       "'apples '"
      ]
     },
     "execution_count": 12,
     "metadata": {},
     "output_type": "execute_result"
    }
   ],
   "source": [
    "s = 'apples - lemons pears'\n",
    "\n",
    "s[:s.find('-')]"
   ]
  },
  {
   "cell_type": "code",
   "execution_count": 25,
   "metadata": {},
   "outputs": [
    {
     "name": "stdout",
     "output_type": "stream",
     "text": [
      "[11, 12, 13, 14, 15, 16, 17, 18]\n"
     ]
    }
   ],
   "source": [
    "l1 = [1,2,3,4,5,6,7,8,9,0]\n",
    "\n",
    "\n",
    "l2 = [11,12,13,14,15,16,17,18]\n",
    "\n",
    "\n",
    "for i in  l1:\n",
    "\n",
    "    f = [v + i for v in l2]\n",
    "\n",
    "print(f)"
   ]
  },
  {
   "cell_type": "code",
   "execution_count": 35,
   "metadata": {},
   "outputs": [
    {
     "name": "stdout",
     "output_type": "stream",
     "text": [
      "None\n",
      "         37936954 function calls in 22.569 seconds\n",
      "\n",
      "   Ordered by: cumulative time\n",
      "\n",
      "   ncalls  tottime  percall  cumtime  percall filename:lineno(function)\n",
      "        2    0.000    0.000   22.569   11.284 /home/tadiuz/anaconda3/lib/python3.8/site-packages/IPython/core/interactiveshell.py:3377(run_code)\n",
      "        2    0.000    0.000   22.569   11.284 {built-in method builtins.exec}\n",
      "        1    0.000    0.000   22.569   22.569 <ipython-input-35-7259e291683a>:23(<module>)\n",
      "        1   19.762   19.762   22.568   22.568 <ipython-input-35-7259e291683a>:3(decompose)\n",
      " 37936873    2.807    0.000    2.807    0.000 {method 'append' of 'list' objects}\n",
      "        1    0.000    0.000    0.001    0.001 {built-in method builtins.print}\n",
      "        2    0.000    0.000    0.001    0.000 /home/tadiuz/anaconda3/lib/python3.8/site-packages/ipykernel/iostream.py:386(write)\n",
      "        3    0.000    0.000    0.000    0.000 /home/tadiuz/anaconda3/lib/python3.8/site-packages/ipykernel/iostream.py:197(schedule)\n",
      "        3    0.000    0.000    0.000    0.000 /home/tadiuz/anaconda3/lib/python3.8/site-packages/zmq/sugar/socket.py:357(send)\n",
      "        2    0.000    0.000    0.000    0.000 /home/tadiuz/anaconda3/lib/python3.8/site-packages/ipykernel/iostream.py:323(_schedule_flush)\n",
      "        2    0.000    0.000    0.000    0.000 /home/tadiuz/anaconda3/lib/python3.8/codeop.py:140(__call__)\n",
      "        2    0.000    0.000    0.000    0.000 {built-in method builtins.compile}\n",
      "        3    0.000    0.000    0.000    0.000 /home/tadiuz/anaconda3/lib/python3.8/threading.py:1071(is_alive)\n",
      "        3    0.000    0.000    0.000    0.000 /home/tadiuz/anaconda3/lib/python3.8/threading.py:1017(_wait_for_tstate_lock)\n",
      "        2    0.000    0.000    0.000    0.000 /home/tadiuz/anaconda3/lib/python3.8/site-packages/ipykernel/iostream.py:310(_is_master_process)\n",
      "        2    0.000    0.000    0.000    0.000 /home/tadiuz/anaconda3/lib/python3.8/contextlib.py:238(helper)\n",
      "        3    0.000    0.000    0.000    0.000 {method 'acquire' of '_thread.lock' objects}\n",
      "        3    0.000    0.000    0.000    0.000 /home/tadiuz/anaconda3/lib/python3.8/site-packages/ipykernel/iostream.py:93(_event_pipe)\n",
      "        2    0.000    0.000    0.000    0.000 /home/tadiuz/anaconda3/lib/python3.8/contextlib.py:117(__exit__)\n",
      "        4    0.000    0.000    0.000    0.000 {built-in method builtins.next}\n",
      "        2    0.000    0.000    0.000    0.000 /home/tadiuz/anaconda3/lib/python3.8/contextlib.py:82(__init__)\n",
      "        2    0.000    0.000    0.000    0.000 /home/tadiuz/anaconda3/lib/python3.8/contextlib.py:108(__enter__)\n",
      "        4    0.000    0.000    0.000    0.000 /home/tadiuz/anaconda3/lib/python3.8/site-packages/IPython/core/compilerop.py:138(extra_flags)\n",
      "        2    0.000    0.000    0.000    0.000 /home/tadiuz/anaconda3/lib/python3.8/site-packages/traitlets/traitlets.py:564(__get__)\n",
      "        2    0.000    0.000    0.000    0.000 /home/tadiuz/anaconda3/lib/python3.8/site-packages/IPython/core/hooks.py:103(__call__)\n",
      "        2    0.000    0.000    0.000    0.000 {built-in method posix.getpid}\n",
      "        1    0.000    0.000    0.000    0.000 <ipython-input-35-7259e291683a>:24(<module>)\n",
      "        2    0.000    0.000    0.000    0.000 /home/tadiuz/anaconda3/lib/python3.8/site-packages/traitlets/traitlets.py:533(get)\n",
      "        2    0.000    0.000    0.000    0.000 /home/tadiuz/anaconda3/lib/python3.8/site-packages/IPython/core/interactiveshell.py:3315(compare)\n",
      "        2    0.000    0.000    0.000    0.000 /home/tadiuz/anaconda3/lib/python3.8/site-packages/IPython/utils/ipstruct.py:125(__getattr__)\n",
      "        4    0.000    0.000    0.000    0.000 {built-in method builtins.getattr}\n",
      "        2    0.000    0.000    0.000    0.000 {built-in method builtins.isinstance}\n",
      "        2    0.000    0.000    0.000    0.000 /home/tadiuz/anaconda3/lib/python3.8/site-packages/IPython/core/interactiveshell.py:1277(user_global_ns)\n",
      "        3    0.000    0.000    0.000    0.000 /home/tadiuz/anaconda3/lib/python3.8/threading.py:513(is_set)\n",
      "        3    0.000    0.000    0.000    0.000 {method 'append' of 'collections.deque' objects}\n",
      "        2    0.000    0.000    0.000    0.000 /home/tadiuz/anaconda3/lib/python3.8/site-packages/IPython/core/hooks.py:168(pre_run_code_hook)\n",
      "        1    0.000    0.000    0.000    0.000 {method 'disable' of '_lsprof.Profiler' objects}\n",
      "\n",
      "\n"
     ]
    },
    {
     "data": {
      "text/plain": [
       "<pstats.Stats at 0x7f55b6c679d0>"
      ]
     },
     "execution_count": 35,
     "metadata": {},
     "output_type": "execute_result"
    }
   ],
   "source": [
    "import cProfile, pstats\n",
    "\n",
    "def decompose(n):   \n",
    "\n",
    "    for j in range(1, n):\n",
    "        seq = []\n",
    "        seq2 = 0\n",
    "        for i in range(j, n):\n",
    "            \n",
    "            seq.append(i)\n",
    "            seq2 += seq2 + i*i\n",
    "            \n",
    "            if seq2 == n*n:\n",
    "                return seq\n",
    "            elif seq2 > n*n:\n",
    "                break\n",
    "    return None\n",
    "                \n",
    "\n",
    " \n",
    "profiler = cProfile.Profile()\n",
    "profiler.enable()\n",
    "print(decompose(9927447))\n",
    "profiler.disable()\n",
    "stats = pstats.Stats(profiler).sort_stats('cumtime')\n",
    "stats.print_stats()"
   ]
  },
  {
   "cell_type": "code",
   "execution_count": 36,
   "metadata": {},
   "outputs": [
    {
     "data": {
      "text/plain": [
       "[-7, -6, -5, -4, -3, -2, -1, 1, 2, 3, 4, 5, 6, 7, 8, 9]"
      ]
     },
     "execution_count": 36,
     "metadata": {},
     "output_type": "execute_result"
    }
   ],
   "source": [
    "l1 = [-1,-2,-3,-4,-5,-6,-7,1,2,3,4,5,6,7,8,9]\n",
    "\n",
    "sorted(l1)"
   ]
  }
 ],
 "metadata": {
  "interpreter": {
   "hash": "e3ebca277399408965fbf9a1b571e9d5e28ac1ab94fe29c3a46743f46627a041"
  },
  "kernelspec": {
   "display_name": "Python 3.8.5 ('base')",
   "language": "python",
   "name": "python3"
  },
  "language_info": {
   "codemirror_mode": {
    "name": "ipython",
    "version": 3
   },
   "file_extension": ".py",
   "mimetype": "text/x-python",
   "name": "python",
   "nbconvert_exporter": "python",
   "pygments_lexer": "ipython3",
   "version": "3.8.5"
  },
  "orig_nbformat": 4
 },
 "nbformat": 4,
 "nbformat_minor": 2
}
